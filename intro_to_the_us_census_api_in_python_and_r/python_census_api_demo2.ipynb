{
 "cells": [
  {
   "cell_type": "code",
   "execution_count": 4,
   "metadata": {},
   "outputs": [
    {
     "name": "stdout",
     "output_type": "stream",
     "text": [
      "https://api.census.gov/data/2018/acs/acs5\n"
     ]
    }
   ],
   "source": [
    "import requests\n",
    "import pandas as pd\n",
    "from pprint import pprint\n",
    "\n",
    "HOST = \"https://api.census.gov/data\"\n",
    "year = \"2018\"\n",
    "dataset = \"acs/acs5\"\n",
    "base_url = \"/\".join([HOST, year, dataset])\n",
    "\n",
    "print(base_url)"
   ]
  },
  {
   "cell_type": "code",
   "execution_count": 5,
   "metadata": {},
   "outputs": [
    {
     "name": "stdout",
     "output_type": "stream",
     "text": [
      "['NAME', 'B19013_001E']\n"
     ]
    }
   ],
   "source": [
    "# Build the list of variables to request\n",
    "get_vars = [\"NAME\", \"B19013_001E\"]\n",
    "\n",
    "print(get_vars)"
   ]
  },
  {
   "cell_type": "code",
   "execution_count": 6,
   "metadata": {},
   "outputs": [
    {
     "name": "stdout",
     "output_type": "stream",
     "text": [
      "{'get': 'NAME,B19013_001E', 'for': 'state:*'}\n"
     ]
    }
   ],
   "source": [
    "predicates = {}\n",
    "predicates[\"get\"] = \",\".join(get_vars)\n",
    "predicates[\"for\"] = \"state:*\"\n",
    "# predicates[\"key\"] = ____________________\n",
    "\n",
    "print(predicates)"
   ]
  },
  {
   "cell_type": "code",
   "execution_count": 7,
   "metadata": {},
   "outputs": [
    {
     "name": "stdout",
     "output_type": "stream",
     "text": [
      "https://api.census.gov/data/2018/acs/acs5?get=NAME%2CB19013_001E&for=state%3A%2A\n"
     ]
    }
   ],
   "source": [
    "r = requests.get(base_url, params=predicates)\n",
    "\n",
    "print(r.url)"
   ]
  },
  {
   "cell_type": "code",
   "execution_count": 8,
   "metadata": {},
   "outputs": [
    {
     "name": "stdout",
     "output_type": "stream",
     "text": [
      "[[\"NAME\",\"B19013_001E\",\"state\"],\n",
      "[\"Minnesota\",\"68411\",\"27\"],\n",
      "[\"Mississippi\",\"43567\",\"28\"],\n",
      "[\"Missouri\",\"53560\",\"29\"],\n",
      "[\"Montana\",\"52559\",\"30\"],\n",
      "[\"Nebraska\",\"59116\",\"31\"],\n",
      "[\"Nevada\",\"57598\",\"32\"],\n",
      "[\"New Hampshire\",\"74057\",\"33\"],\n",
      "[\"New Jersey\",\"79363\",\"34\"],\n",
      "[\"New Mexico\",\"48059\",\"35\"],\n",
      "[\"New York\",\"65323\",\"36\"],\n",
      "[\"North Carolina\",\"52413\",\"37\"],\n",
      "[\"North Dakota\",\"63473\",\"38\"],\n",
      "[\"Ohio\",\"54533\",\"39\"],\n",
      "[\"Oklahoma\",\"51424\",\"40\"],\n",
      "[\"Oregon\",\"59393\",\"41\"],\n",
      "[\"Pennsylvania\",\"59445\",\"42\"],\n",
      "[\"Rhode Island\",\"63296\",\"44\"],\n",
      "[\"South Carolina\",\"51015\",\"45\"],\n",
      "[\"South Dakota\",\"56499\",\"46\"],\n",
      "[\"Tennessee\",\"50972\",\"47\"],\n",
      "[\"Texas\",\"59570\",\"48\"],\n",
      "[\"Utah\",\"68374\",\"49\"],\n",
      "[\"Vermont\",\"60076\",\"50\"],\n",
      "[\"Virginia\",\"71564\",\"51\"],\n",
      "[\"West Virginia\",\"44921\",\"54\"],\n",
      "[\"Washington\",\"70116\",\"53\"],\n",
      "[\"Wisconsin\",\"59209\",\"55\"],\n",
      "[\"Wyoming\",\"62268\",\"56\"],\n",
      "[\"Puerto Rico\",\"20166\",\"72\"],\n",
      "[\"Alabama\",\"48486\",\"01\"],\n",
      "[\"Alaska\",\"76715\",\"02\"],\n",
      "[\"Arizona\",\"56213\",\"04\"],\n",
      "[\"Arkansas\",\"45726\",\"05\"],\n",
      "[\"California\",\"71228\",\"06\"],\n",
      "[\"Colorado\",\"68811\",\"08\"],\n",
      "[\"Connecticut\",\"76106\",\"09\"],\n",
      "[\"Delaware\",\"65627\",\"10\"],\n",
      "[\"District of Columbia\",\"82604\",\"11\"],\n",
      "[\"Florida\",\"53267\",\"12\"],\n",
      "[\"Georgia\",\"55679\",\"13\"],\n",
      "[\"Idaho\",\"53089\",\"16\"],\n",
      "[\"Hawaii\",\"78084\",\"15\"],\n",
      "[\"Illinois\",\"63575\",\"17\"],\n",
      "[\"Indiana\",\"54325\",\"18\"],\n",
      "[\"Iowa\",\"58580\",\"19\"],\n",
      "[\"Kansas\",\"57422\",\"20\"],\n",
      "[\"Kentucky\",\"48392\",\"21\"],\n",
      "[\"Louisiana\",\"47942\",\"22\"],\n",
      "[\"Maine\",\"55425\",\"23\"],\n",
      "[\"Maryland\",\"81868\",\"24\"],\n",
      "[\"Massachusetts\",\"77378\",\"25\"],\n",
      "[\"Michigan\",\"54938\",\"26\"]]\n"
     ]
    }
   ],
   "source": [
    "print(r.text)"
   ]
  },
  {
   "cell_type": "code",
   "execution_count": 9,
   "metadata": {},
   "outputs": [
    {
     "name": "stdout",
     "output_type": "stream",
     "text": [
      "error: error: unknown variable 'this_does_not_exist'\n"
     ]
    }
   ],
   "source": [
    "# response.text is useful for diagnosing problems in the request\n",
    "missing_vars = [\"this_does_not_exist\"]\n",
    "predicates[\"get\"] = predicates[\"get\"] = \",\".join(missing_vars)\n",
    "\n",
    "r2 = requests.get(base_url, params=predicates)\n",
    "\n",
    "print(r2.text)"
   ]
  },
  {
   "cell_type": "code",
   "execution_count": 10,
   "metadata": {},
   "outputs": [
    {
     "name": "stdout",
     "output_type": "stream",
     "text": [
      "error: unknown/unsupported geography heirarchy\n"
     ]
    }
   ],
   "source": [
    "# Repair the variables...\n",
    "predicates[\"get\"] = \",\".join(get_vars)\n",
    "\n",
    "# ...but screw up the geography\n",
    "predicates[\"for\"] = \"statd:*\"\n",
    "\n",
    "r2 = requests.get(base_url, params=predicates)\n",
    "\n",
    "print(r2.text)"
   ]
  },
  {
   "cell_type": "code",
   "execution_count": 11,
   "metadata": {},
   "outputs": [
    {
     "name": "stdout",
     "output_type": "stream",
     "text": [
      "[['NAME', 'B19013_001E', 'state'],\n",
      " ['Minnesota', '68411', '27'],\n",
      " ['Mississippi', '43567', '28'],\n",
      " ['Missouri', '53560', '29'],\n",
      " ['Montana', '52559', '30']]\n"
     ]
    }
   ],
   "source": [
    "pprint(r.json()[:5])"
   ]
  },
  {
   "cell_type": "code",
   "execution_count": 12,
   "metadata": {},
   "outputs": [
    {
     "name": "stdout",
     "output_type": "stream",
     "text": [
      "          name    mhi state\n",
      "0    Minnesota  68411    27\n",
      "1  Mississippi  43567    28\n",
      "2     Missouri  53560    29\n",
      "3      Montana  52559    30\n",
      "4     Nebraska  59116    31\n"
     ]
    }
   ],
   "source": [
    "col_names = [\"name\", \"mhi\", \"state\"]\n",
    "states = pd.DataFrame(columns=col_names, data=r.json()[1:])\n",
    "\n",
    "# Fix columns that should be numeric\n",
    "states[\"mhi\"] = states[\"mhi\"].astype(int)\n",
    "\n",
    "print(states.head())"
   ]
  },
  {
   "cell_type": "code",
   "execution_count": null,
   "metadata": {},
   "outputs": [],
   "source": [
    "# # Get shapefile of state boundaries\n",
    "# import os\n",
    "# from urllib.request import urlopen\n",
    "# from zipfile import ZipFile\n",
    "\n",
    "# # data retrieval\n",
    "# def get_and_unzip(url, data_dir = os.getcwd()):\n",
    "    \n",
    "#     basename = url.split(\"/\")[-1]\n",
    "#     fn = os.path.join(data_dir, basename)\n",
    "    \n",
    "#     file_data = urlopen(url)  \n",
    "#     data_to_write = file_data.read()\n",
    "#     with open(fn, \"wb\") as f:  \n",
    "#         f.write(data_to_write)\n",
    "    \n",
    "#     zip_obj = ZipFile(fn)\n",
    "#     zip_obj.extractall(data_dir)\n",
    "#     del(zip_obj)\n",
    "    \n",
    "#     # Cleanup:\n",
    "#     os.unlink(fn)\n",
    "\n",
    "# get_and_unzip(\"https://www2.census.gov/geo/tiger/GENZ2018/shp/cb_2018_us_state_500k.zip\")"
   ]
  },
  {
   "cell_type": "code",
   "execution_count": 13,
   "metadata": {},
   "outputs": [
    {
     "data": {
      "text/plain": [
       "<matplotlib.axes._subplots.AxesSubplot at 0x7fcd25d29dc0>"
      ]
     },
     "execution_count": 13,
     "metadata": {},
     "output_type": "execute_result"
    },
    {
     "data": {
      "image/png": "[encoded data removed]",
      "text/plain": [
       "<Figure size 432x288 with 1 Axes>"
      ]
     },
     "metadata": {
      "needs_background": "light"
     },
     "output_type": "display_data"
    }
   ],
   "source": [
    "import geopandas as gpd\n",
    "\n",
    "# Rely on shapefile being downloaded and cached in R session\n",
    "# Use appropriate path for yourself!\n",
    "gdf = gpd.read_file(\"/home/lee/.cache/tigris/cb_2018_us_state_500k.shp\")\n",
    "gdf.plot()"
   ]
  },
  {
   "cell_type": "code",
   "execution_count": 14,
   "metadata": {},
   "outputs": [
    {
     "data": {
      "text/html": [
       "<div>\n",
       "<style scoped>\n",
       "    .dataframe tbody tr th:only-of-type {\n",
       "        vertical-align: middle;\n",
       "    }\n",
       "\n",
       "    .dataframe tbody tr th {\n",
       "        vertical-align: top;\n",
       "    }\n",
       "\n",
       "    .dataframe thead th {\n",
       "        text-align: right;\n",
       "    }\n",
       "</style>\n",
       "<table border=\"1\" class=\"dataframe\">\n",
       "  <thead>\n",
       "    <tr style=\"text-align: right;\">\n",
       "      <th></th>\n",
       "      <th>STATEFP</th>\n",
       "      <th>STATENS</th>\n",
       "      <th>AFFGEOID</th>\n",
       "      <th>GEOID</th>\n",
       "      <th>STUSPS</th>\n",
       "      <th>NAME</th>\n",
       "      <th>LSAD</th>\n",
       "      <th>ALAND</th>\n",
       "      <th>AWATER</th>\n",
       "      <th>geometry</th>\n",
       "    </tr>\n",
       "  </thead>\n",
       "  <tbody>\n",
       "    <tr>\n",
       "      <th>0</th>\n",
       "      <td>28</td>\n",
       "      <td>01779790</td>\n",
       "      <td>0400000US28</td>\n",
       "      <td>28</td>\n",
       "      <td>MS</td>\n",
       "      <td>Mississippi</td>\n",
       "      <td>00</td>\n",
       "      <td>121533519481</td>\n",
       "      <td>3926919758</td>\n",
       "      <td>MULTIPOLYGON (((-88.50297 30.21523, -88.49176 ...</td>\n",
       "    </tr>\n",
       "    <tr>\n",
       "      <th>1</th>\n",
       "      <td>37</td>\n",
       "      <td>01027616</td>\n",
       "      <td>0400000US37</td>\n",
       "      <td>37</td>\n",
       "      <td>NC</td>\n",
       "      <td>North Carolina</td>\n",
       "      <td>00</td>\n",
       "      <td>125923656064</td>\n",
       "      <td>13466071395</td>\n",
       "      <td>MULTIPOLYGON (((-75.72681 35.93584, -75.71827 ...</td>\n",
       "    </tr>\n",
       "    <tr>\n",
       "      <th>2</th>\n",
       "      <td>40</td>\n",
       "      <td>01102857</td>\n",
       "      <td>0400000US40</td>\n",
       "      <td>40</td>\n",
       "      <td>OK</td>\n",
       "      <td>Oklahoma</td>\n",
       "      <td>00</td>\n",
       "      <td>177662925723</td>\n",
       "      <td>3374587997</td>\n",
       "      <td>POLYGON ((-103.00257 36.52659, -103.00219 36.6...</td>\n",
       "    </tr>\n",
       "    <tr>\n",
       "      <th>3</th>\n",
       "      <td>51</td>\n",
       "      <td>01779803</td>\n",
       "      <td>0400000US51</td>\n",
       "      <td>51</td>\n",
       "      <td>VA</td>\n",
       "      <td>Virginia</td>\n",
       "      <td>00</td>\n",
       "      <td>102257717110</td>\n",
       "      <td>8528531774</td>\n",
       "      <td>MULTIPOLYGON (((-75.74241 37.80835, -75.74151 ...</td>\n",
       "    </tr>\n",
       "    <tr>\n",
       "      <th>4</th>\n",
       "      <td>54</td>\n",
       "      <td>01779805</td>\n",
       "      <td>0400000US54</td>\n",
       "      <td>54</td>\n",
       "      <td>WV</td>\n",
       "      <td>West Virginia</td>\n",
       "      <td>00</td>\n",
       "      <td>62266474513</td>\n",
       "      <td>489028543</td>\n",
       "      <td>POLYGON ((-82.64320 38.16909, -82.64300 38.169...</td>\n",
       "    </tr>\n",
       "  </tbody>\n",
       "</table>\n",
       "</div>"
      ],
      "text/plain": [
       "  STATEFP   STATENS     AFFGEOID GEOID STUSPS            NAME LSAD  \\\n",
       "0      28  01779790  0400000US28    28     MS     Mississippi   00   \n",
       "1      37  01027616  0400000US37    37     NC  North Carolina   00   \n",
       "2      40  01102857  0400000US40    40     OK        Oklahoma   00   \n",
       "3      51  01779803  0400000US51    51     VA        Virginia   00   \n",
       "4      54  01779805  0400000US54    54     WV   West Virginia   00   \n",
       "\n",
       "          ALAND       AWATER  \\\n",
       "0  121533519481   3926919758   \n",
       "1  125923656064  13466071395   \n",
       "2  177662925723   3374587997   \n",
       "3  102257717110   8528531774   \n",
       "4   62266474513    489028543   \n",
       "\n",
       "                                            geometry  \n",
       "0  MULTIPOLYGON (((-88.50297 30.21523, -88.49176 ...  \n",
       "1  MULTIPOLYGON (((-75.72681 35.93584, -75.71827 ...  \n",
       "2  POLYGON ((-103.00257 36.52659, -103.00219 36.6...  \n",
       "3  MULTIPOLYGON (((-75.74241 37.80835, -75.74151 ...  \n",
       "4  POLYGON ((-82.64320 38.16909, -82.64300 38.169...  "
      ]
     },
     "execution_count": 14,
     "metadata": {},
     "output_type": "execute_result"
    }
   ],
   "source": [
    "gdf.head()"
   ]
  },
  {
   "cell_type": "code",
   "execution_count": 15,
   "metadata": {},
   "outputs": [],
   "source": [
    "gdf.rename(columns = {\"STATEFP\": \"state\"}, inplace = True)\n",
    "gdf = gdf[[\"state\", \"geometry\"]]\n",
    "\n",
    "gdf = gdf.merge(states, on = [\"state\"])\n"
   ]
  },
  {
   "cell_type": "code",
   "execution_count": 16,
   "metadata": {},
   "outputs": [
    {
     "data": {
      "text/html": [
       "<div>\n",
       "<style scoped>\n",
       "    .dataframe tbody tr th:only-of-type {\n",
       "        vertical-align: middle;\n",
       "    }\n",
       "\n",
       "    .dataframe tbody tr th {\n",
       "        vertical-align: top;\n",
       "    }\n",
       "\n",
       "    .dataframe thead th {\n",
       "        text-align: right;\n",
       "    }\n",
       "</style>\n",
       "<table border=\"1\" class=\"dataframe\">\n",
       "  <thead>\n",
       "    <tr style=\"text-align: right;\">\n",
       "      <th></th>\n",
       "      <th>state</th>\n",
       "      <th>geometry</th>\n",
       "      <th>name</th>\n",
       "      <th>mhi</th>\n",
       "    </tr>\n",
       "  </thead>\n",
       "  <tbody>\n",
       "    <tr>\n",
       "      <th>0</th>\n",
       "      <td>28</td>\n",
       "      <td>MULTIPOLYGON (((-88.50297 30.21523, -88.49176 ...</td>\n",
       "      <td>Mississippi</td>\n",
       "      <td>43567</td>\n",
       "    </tr>\n",
       "    <tr>\n",
       "      <th>1</th>\n",
       "      <td>37</td>\n",
       "      <td>MULTIPOLYGON (((-75.72681 35.93584, -75.71827 ...</td>\n",
       "      <td>North Carolina</td>\n",
       "      <td>52413</td>\n",
       "    </tr>\n",
       "    <tr>\n",
       "      <th>2</th>\n",
       "      <td>40</td>\n",
       "      <td>POLYGON ((-103.00257 36.52659, -103.00219 36.6...</td>\n",
       "      <td>Oklahoma</td>\n",
       "      <td>51424</td>\n",
       "    </tr>\n",
       "    <tr>\n",
       "      <th>3</th>\n",
       "      <td>51</td>\n",
       "      <td>MULTIPOLYGON (((-75.74241 37.80835, -75.74151 ...</td>\n",
       "      <td>Virginia</td>\n",
       "      <td>71564</td>\n",
       "    </tr>\n",
       "    <tr>\n",
       "      <th>4</th>\n",
       "      <td>54</td>\n",
       "      <td>POLYGON ((-82.64320 38.16909, -82.64300 38.169...</td>\n",
       "      <td>West Virginia</td>\n",
       "      <td>44921</td>\n",
       "    </tr>\n",
       "  </tbody>\n",
       "</table>\n",
       "</div>"
      ],
      "text/plain": [
       "  state                                           geometry            name  \\\n",
       "0    28  MULTIPOLYGON (((-88.50297 30.21523, -88.49176 ...     Mississippi   \n",
       "1    37  MULTIPOLYGON (((-75.72681 35.93584, -75.71827 ...  North Carolina   \n",
       "2    40  POLYGON ((-103.00257 36.52659, -103.00219 36.6...        Oklahoma   \n",
       "3    51  MULTIPOLYGON (((-75.74241 37.80835, -75.74151 ...        Virginia   \n",
       "4    54  POLYGON ((-82.64320 38.16909, -82.64300 38.169...   West Virginia   \n",
       "\n",
       "     mhi  \n",
       "0  43567  \n",
       "1  52413  \n",
       "2  51424  \n",
       "3  71564  \n",
       "4  44921  "
      ]
     },
     "execution_count": 16,
     "metadata": {},
     "output_type": "execute_result"
    }
   ],
   "source": [
    "gdf.head()"
   ]
  },
  {
   "cell_type": "code",
   "execution_count": 22,
   "metadata": {},
   "outputs": [
    {
     "data": {
      "text/plain": [
       "<matplotlib.axes._subplots.AxesSubplot at 0x7fcd26524d60>"
      ]
     },
     "execution_count": 22,
     "metadata": {},
     "output_type": "execute_result"
    },
    {
     "data": {
      "image/png": "[encoded data removed]",
      "text/plain": [
       "<Figure size 432x288 with 1 Axes>"
      ]
     },
     "metadata": {
      "needs_background": "light"
     },
     "output_type": "display_data"
    }
   ],
   "source": [
    "# Filter to continental US and reproject\n",
    "gdf = gdf[~gdf[\"name\"].isin([\"Alaska\", \"Hawaii\", \"Puerto Rico\"])].copy()\n",
    "gdf.to_crs(epsg = 2163, inplace = True)\n",
    "\n",
    "gdf.plot(column = \"mhi\")"
   ]
  },
  {
   "cell_type": "code",
   "execution_count": 23,
   "metadata": {},
   "outputs": [
    {
     "data": {
      "text/plain": [
       "<matplotlib.axes._subplots.AxesSubplot at 0x7fcd24eaff70>"
      ]
     },
     "execution_count": 23,
     "metadata": {},
     "output_type": "execute_result"
    },
    {
     "data": {
      "image/png": "[encoded data removed]",
      "text/plain": [
       "<Figure size 432x288 with 1 Axes>"
      ]
     },
     "metadata": {
      "needs_background": "light"
     },
     "output_type": "display_data"
    }
   ],
   "source": [
    "gdf.plot(column = \"mhi\", cmap = \"YlOrBr\")"
   ]
  },
  {
   "cell_type": "code",
   "execution_count": 24,
   "metadata": {},
   "outputs": [
    {
     "name": "stdout",
     "output_type": "stream",
     "text": [
      "['NAME', 'B28010_001E', 'B28010_002E', 'B28010_003E', 'B28010_004E', 'B28010_005E', 'B28010_006E', 'B28010_007E']\n"
     ]
    }
   ],
   "source": [
    "# Get all the variables in a table\n",
    "get_vars = [\"NAME\"] + [\"B28010_\" + str(i + 1).zfill(3) + \"E\" for i in range(7)]\n",
    "print(get_vars)"
   ]
  },
  {
   "cell_type": "code",
   "execution_count": 25,
   "metadata": {},
   "outputs": [
    {
     "name": "stdout",
     "output_type": "stream",
     "text": [
      "{'get': 'NAME,B28010_001E,B28010_002E,B28010_003E,B28010_004E,B28010_005E,B28010_006E,B28010_007E', 'for': 'county:*', 'in': 'state:42'}\n"
     ]
    }
   ],
   "source": [
    "predicates = {}\n",
    "predicates[\"get\"] = \",\".join(get_vars)\n",
    "predicates[\"for\"] = \"county:*\"\n",
    "predicates[\"in\"] = \"state:42\"\n",
    "# predicates[\"key\"] = ____________________\n",
    "\n",
    "print(predicates)"
   ]
  },
  {
   "cell_type": "code",
   "execution_count": 27,
   "metadata": {},
   "outputs": [],
   "source": [
    "r = requests.get(base_url, params=predicates)\n",
    "\n",
    "pa_counties = pd.DataFrame(columns=r.json()[0], data=r.json()[1:])\n",
    "\n",
    "# Fix columns that should be numeric\n",
    "pa_counties[pa_counties.columns[1:-2]] = pa_counties[pa_counties.columns[1:-2]].astype(int)"
   ]
  },
  {
   "cell_type": "code",
   "execution_count": 34,
   "metadata": {},
   "outputs": [],
   "source": [
    "pa_counties[\"pct_has_computer\"] = pa_counties[\"B28010_002E\"] / pa_counties[\"B28010_001E\"]\n"
   ]
  },
  {
   "cell_type": "code",
   "execution_count": 40,
   "metadata": {},
   "outputs": [],
   "source": [
    "gdf2 = gpd.read_file(\"/home/lee/.cache/tigris/cb_2018_us_county_500k.shp\")\n",
    "\n",
    "gdf2.rename(columns = {\"STATEFP\": \"state\", \"COUNTYFP\": \"county\"}, inplace = True)\n",
    "gdf2 = gdf2[[\"state\", \"county\", \"geometry\"]]\n",
    "\n",
    "gdf2 = gdf2.merge(pa_counties, on = [\"state\", \"county\"])\n",
    "gdf2.to_crs(epsg = 2272, inplace = True)"
   ]
  },
  {
   "cell_type": "code",
   "execution_count": 41,
   "metadata": {},
   "outputs": [
    {
     "data": {
      "text/html": [
       "<div>\n",
       "<style scoped>\n",
       "    .dataframe tbody tr th:only-of-type {\n",
       "        vertical-align: middle;\n",
       "    }\n",
       "\n",
       "    .dataframe tbody tr th {\n",
       "        vertical-align: top;\n",
       "    }\n",
       "\n",
       "    .dataframe thead th {\n",
       "        text-align: right;\n",
       "    }\n",
       "</style>\n",
       "<table border=\"1\" class=\"dataframe\">\n",
       "  <thead>\n",
       "    <tr style=\"text-align: right;\">\n",
       "      <th></th>\n",
       "      <th>state</th>\n",
       "      <th>county</th>\n",
       "      <th>geometry</th>\n",
       "      <th>NAME</th>\n",
       "      <th>B28010_001E</th>\n",
       "      <th>B28010_002E</th>\n",
       "      <th>B28010_003E</th>\n",
       "      <th>B28010_004E</th>\n",
       "      <th>B28010_005E</th>\n",
       "      <th>B28010_006E</th>\n",
       "      <th>B28010_007E</th>\n",
       "      <th>pct_has_computer</th>\n",
       "    </tr>\n",
       "  </thead>\n",
       "  <tbody>\n",
       "    <tr>\n",
       "      <th>0</th>\n",
       "      <td>42</td>\n",
       "      <td>005</td>\n",
       "      <td>POLYGON ((1429579.553 492770.710, 1429725.759 ...</td>\n",
       "      <td>Armstrong County, Pennsylvania</td>\n",
       "      <td>27990</td>\n",
       "      <td>22823</td>\n",
       "      <td>20284</td>\n",
       "      <td>3806</td>\n",
       "      <td>19017</td>\n",
       "      <td>2539</td>\n",
       "      <td>5167</td>\n",
       "      <td>0.815398</td>\n",
       "    </tr>\n",
       "    <tr>\n",
       "      <th>1</th>\n",
       "      <td>42</td>\n",
       "      <td>029</td>\n",
       "      <td>MULTIPOLYGON (((2574644.924 192143.254, 257521...</td>\n",
       "      <td>Chester County, Pennsylvania</td>\n",
       "      <td>189592</td>\n",
       "      <td>174348</td>\n",
       "      <td>164476</td>\n",
       "      <td>22285</td>\n",
       "      <td>152063</td>\n",
       "      <td>9872</td>\n",
       "      <td>15244</td>\n",
       "      <td>0.919596</td>\n",
       "    </tr>\n",
       "    <tr>\n",
       "      <th>2</th>\n",
       "      <td>42</td>\n",
       "      <td>035</td>\n",
       "      <td>POLYGON ((1874022.399 686391.096, 1885045.137 ...</td>\n",
       "      <td>Clinton County, Pennsylvania</td>\n",
       "      <td>14744</td>\n",
       "      <td>12270</td>\n",
       "      <td>11056</td>\n",
       "      <td>2283</td>\n",
       "      <td>9987</td>\n",
       "      <td>1214</td>\n",
       "      <td>2474</td>\n",
       "      <td>0.832203</td>\n",
       "    </tr>\n",
       "    <tr>\n",
       "      <th>3</th>\n",
       "      <td>42</td>\n",
       "      <td>059</td>\n",
       "      <td>POLYGON ((1190531.058 184452.197, 1190938.051 ...</td>\n",
       "      <td>Greene County, Pennsylvania</td>\n",
       "      <td>14211</td>\n",
       "      <td>11858</td>\n",
       "      <td>9997</td>\n",
       "      <td>1727</td>\n",
       "      <td>10131</td>\n",
       "      <td>1861</td>\n",
       "      <td>2353</td>\n",
       "      <td>0.834424</td>\n",
       "    </tr>\n",
       "    <tr>\n",
       "      <th>4</th>\n",
       "      <td>42</td>\n",
       "      <td>067</td>\n",
       "      <td>POLYGON ((1969400.907 382984.850, 1970268.859 ...</td>\n",
       "      <td>Juniata County, Pennsylvania</td>\n",
       "      <td>9404</td>\n",
       "      <td>7430</td>\n",
       "      <td>6510</td>\n",
       "      <td>1370</td>\n",
       "      <td>6060</td>\n",
       "      <td>920</td>\n",
       "      <td>1974</td>\n",
       "      <td>0.790089</td>\n",
       "    </tr>\n",
       "  </tbody>\n",
       "</table>\n",
       "</div>"
      ],
      "text/plain": [
       "  state county                                           geometry  \\\n",
       "0    42    005  POLYGON ((1429579.553 492770.710, 1429725.759 ...   \n",
       "1    42    029  MULTIPOLYGON (((2574644.924 192143.254, 257521...   \n",
       "2    42    035  POLYGON ((1874022.399 686391.096, 1885045.137 ...   \n",
       "3    42    059  POLYGON ((1190531.058 184452.197, 1190938.051 ...   \n",
       "4    42    067  POLYGON ((1969400.907 382984.850, 1970268.859 ...   \n",
       "\n",
       "                             NAME  B28010_001E  B28010_002E  B28010_003E  \\\n",
       "0  Armstrong County, Pennsylvania        27990        22823        20284   \n",
       "1    Chester County, Pennsylvania       189592       174348       164476   \n",
       "2    Clinton County, Pennsylvania        14744        12270        11056   \n",
       "3     Greene County, Pennsylvania        14211        11858         9997   \n",
       "4    Juniata County, Pennsylvania         9404         7430         6510   \n",
       "\n",
       "   B28010_004E  B28010_005E  B28010_006E  B28010_007E  pct_has_computer  \n",
       "0         3806        19017         2539         5167          0.815398  \n",
       "1        22285       152063         9872        15244          0.919596  \n",
       "2         2283         9987         1214         2474          0.832203  \n",
       "3         1727        10131         1861         2353          0.834424  \n",
       "4         1370         6060          920         1974          0.790089  "
      ]
     },
     "execution_count": 41,
     "metadata": {},
     "output_type": "execute_result"
    }
   ],
   "source": [
    "gdf2.head()"
   ]
  },
  {
   "cell_type": "code",
   "execution_count": 42,
   "metadata": {},
   "outputs": [
    {
     "data": {
      "text/plain": [
       "<matplotlib.axes._subplots.AxesSubplot at 0x7fcd246b5820>"
      ]
     },
     "execution_count": 42,
     "metadata": {},
     "output_type": "execute_result"
    },
    {
     "data": {
      "image/png": "[encoded data removed]",
      "text/plain": [
       "<Figure size 432x288 with 1 Axes>"
      ]
     },
     "metadata": {
      "needs_background": "light"
     },
     "output_type": "display_data"
    }
   ],
   "source": [
    "gdf2.plot(column = \"pct_has_computer\", cmap = \"YlGnBu\")"
   ]
  }
 ],
 "metadata": {
  "kernelspec": {
   "display_name": "Python 3",
   "language": "python",
   "name": "python3"
  },
  "language_info": {
   "codemirror_mode": {
    "name": "ipython",
    "version": 3
   },
   "file_extension": ".py",
   "mimetype": "text/x-python",
   "name": "python",
   "nbconvert_exporter": "python",
   "pygments_lexer": "ipython3",
   "version": "3.8.1"
  }
 },
 "nbformat": 4,
 "nbformat_minor": 4
}
